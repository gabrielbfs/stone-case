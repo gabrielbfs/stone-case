{
 "cells": [
  {
   "cell_type": "code",
   "execution_count": 1,
   "id": "together-fellowship",
   "metadata": {},
   "outputs": [],
   "source": [
    "import numpy as np\n",
    "import pandas as pd\n",
    "import matplotlib.pyplot as plt\n",
    "%matplotlib inline\n",
    "\n",
    "from unicodedata import normalize\n",
    "from datetime import datetime, timedelta\n",
    "import time\n",
    "from workalendar.america import Brazil\n",
    "\n",
    "from sklearn.preprocessing import QuantileTransformer\n",
    "from sklearn.preprocessing import OneHotEncoder\n",
    "from sklearn.pipeline import make_pipeline\n",
    "from sklearn.preprocessing import StandardScaler"
   ]
  },
  {
   "cell_type": "markdown",
   "id": "institutional-elevation",
   "metadata": {},
   "source": [
    "---"
   ]
  },
  {
   "cell_type": "markdown",
   "id": "affecting-narrative",
   "metadata": {},
   "source": [
    "# MODELLING"
   ]
  },
  {
   "cell_type": "code",
   "execution_count": 2,
   "id": "agricultural-repair",
   "metadata": {},
   "outputs": [],
   "source": [
    "def erro(y_true, y_pred):\n",
    "    ind_consider = np.sum(y_true, axis='columns') >= 10\n",
    "    error = ((np.abs(np.sum(y_true, axis='columns') - np.sum(y_pred, axis='columns')))/(np.sum(y_true, axis='columns')))[ind_consider]\n",
    "\n",
    "    error = np.sum(error)\n",
    "    return error"
   ]
  },
  {
   "cell_type": "markdown",
   "id": "played-cricket",
   "metadata": {},
   "source": [
    "---"
   ]
  },
  {
   "cell_type": "code",
   "execution_count": 3,
   "id": "mental-degree",
   "metadata": {},
   "outputs": [],
   "source": [
    "df = pd.read_csv('model data//model_data.csv', parse_dates=['mes_referencia'])\n",
    "df = df.set_index(['mes_referencia', 'id'])"
   ]
  },
  {
   "cell_type": "code",
   "execution_count": 4,
   "id": "thrown-hybrid",
   "metadata": {},
   "outputs": [
    {
     "data": {
      "text/html": [
       "<div>\n",
       "<style scoped>\n",
       "    .dataframe tbody tr th:only-of-type {\n",
       "        vertical-align: middle;\n",
       "    }\n",
       "\n",
       "    .dataframe tbody tr th {\n",
       "        vertical-align: top;\n",
       "    }\n",
       "\n",
       "    .dataframe thead th {\n",
       "        text-align: right;\n",
       "    }\n",
       "</style>\n",
       "<table border=\"1\" class=\"dataframe\">\n",
       "  <thead>\n",
       "    <tr style=\"text-align: right;\">\n",
       "      <th></th>\n",
       "      <th></th>\n",
       "      <th>TPV_mensal</th>\n",
       "      <th>work_days</th>\n",
       "      <th>TPV_mensal/work_day</th>\n",
       "      <th>1</th>\n",
       "      <th>2</th>\n",
       "      <th>3</th>\n",
       "      <th>4</th>\n",
       "      <th>5</th>\n",
       "      <th>6</th>\n",
       "      <th>7</th>\n",
       "      <th>...</th>\n",
       "      <th>RJ</th>\n",
       "      <th>RN</th>\n",
       "      <th>RO</th>\n",
       "      <th>RR</th>\n",
       "      <th>RS</th>\n",
       "      <th>SC</th>\n",
       "      <th>SE</th>\n",
       "      <th>SP</th>\n",
       "      <th>TO</th>\n",
       "      <th>covid</th>\n",
       "    </tr>\n",
       "    <tr>\n",
       "      <th>mes_referencia</th>\n",
       "      <th>id</th>\n",
       "      <th></th>\n",
       "      <th></th>\n",
       "      <th></th>\n",
       "      <th></th>\n",
       "      <th></th>\n",
       "      <th></th>\n",
       "      <th></th>\n",
       "      <th></th>\n",
       "      <th></th>\n",
       "      <th></th>\n",
       "      <th></th>\n",
       "      <th></th>\n",
       "      <th></th>\n",
       "      <th></th>\n",
       "      <th></th>\n",
       "      <th></th>\n",
       "      <th></th>\n",
       "      <th></th>\n",
       "      <th></th>\n",
       "      <th></th>\n",
       "      <th></th>\n",
       "    </tr>\n",
       "  </thead>\n",
       "  <tbody>\n",
       "    <tr>\n",
       "      <th>2018-12-31</th>\n",
       "      <th>1</th>\n",
       "      <td>10107.90</td>\n",
       "      <td>20</td>\n",
       "      <td>505.395000</td>\n",
       "      <td>0</td>\n",
       "      <td>0</td>\n",
       "      <td>0</td>\n",
       "      <td>0</td>\n",
       "      <td>0</td>\n",
       "      <td>0</td>\n",
       "      <td>0</td>\n",
       "      <td>...</td>\n",
       "      <td>0</td>\n",
       "      <td>0</td>\n",
       "      <td>0</td>\n",
       "      <td>0</td>\n",
       "      <td>0</td>\n",
       "      <td>0</td>\n",
       "      <td>0</td>\n",
       "      <td>0</td>\n",
       "      <td>0</td>\n",
       "      <td>0</td>\n",
       "    </tr>\n",
       "    <tr>\n",
       "      <th>2019-01-31</th>\n",
       "      <th>1</th>\n",
       "      <td>6023.15</td>\n",
       "      <td>22</td>\n",
       "      <td>273.779545</td>\n",
       "      <td>1</td>\n",
       "      <td>0</td>\n",
       "      <td>0</td>\n",
       "      <td>0</td>\n",
       "      <td>0</td>\n",
       "      <td>0</td>\n",
       "      <td>0</td>\n",
       "      <td>...</td>\n",
       "      <td>0</td>\n",
       "      <td>0</td>\n",
       "      <td>0</td>\n",
       "      <td>0</td>\n",
       "      <td>0</td>\n",
       "      <td>0</td>\n",
       "      <td>0</td>\n",
       "      <td>0</td>\n",
       "      <td>0</td>\n",
       "      <td>0</td>\n",
       "    </tr>\n",
       "    <tr>\n",
       "      <th>2019-02-28</th>\n",
       "      <th>1</th>\n",
       "      <td>4347.30</td>\n",
       "      <td>20</td>\n",
       "      <td>217.365000</td>\n",
       "      <td>0</td>\n",
       "      <td>1</td>\n",
       "      <td>0</td>\n",
       "      <td>0</td>\n",
       "      <td>0</td>\n",
       "      <td>0</td>\n",
       "      <td>0</td>\n",
       "      <td>...</td>\n",
       "      <td>0</td>\n",
       "      <td>0</td>\n",
       "      <td>0</td>\n",
       "      <td>0</td>\n",
       "      <td>0</td>\n",
       "      <td>0</td>\n",
       "      <td>0</td>\n",
       "      <td>0</td>\n",
       "      <td>0</td>\n",
       "      <td>0</td>\n",
       "    </tr>\n",
       "    <tr>\n",
       "      <th>2019-03-31</th>\n",
       "      <th>1</th>\n",
       "      <td>9769.75</td>\n",
       "      <td>21</td>\n",
       "      <td>465.226190</td>\n",
       "      <td>0</td>\n",
       "      <td>0</td>\n",
       "      <td>1</td>\n",
       "      <td>0</td>\n",
       "      <td>0</td>\n",
       "      <td>0</td>\n",
       "      <td>0</td>\n",
       "      <td>...</td>\n",
       "      <td>0</td>\n",
       "      <td>0</td>\n",
       "      <td>0</td>\n",
       "      <td>0</td>\n",
       "      <td>0</td>\n",
       "      <td>0</td>\n",
       "      <td>0</td>\n",
       "      <td>0</td>\n",
       "      <td>0</td>\n",
       "      <td>0</td>\n",
       "    </tr>\n",
       "    <tr>\n",
       "      <th>2019-04-30</th>\n",
       "      <th>1</th>\n",
       "      <td>6701.70</td>\n",
       "      <td>22</td>\n",
       "      <td>304.622727</td>\n",
       "      <td>0</td>\n",
       "      <td>0</td>\n",
       "      <td>0</td>\n",
       "      <td>1</td>\n",
       "      <td>0</td>\n",
       "      <td>0</td>\n",
       "      <td>0</td>\n",
       "      <td>...</td>\n",
       "      <td>0</td>\n",
       "      <td>0</td>\n",
       "      <td>0</td>\n",
       "      <td>0</td>\n",
       "      <td>0</td>\n",
       "      <td>0</td>\n",
       "      <td>0</td>\n",
       "      <td>0</td>\n",
       "      <td>0</td>\n",
       "      <td>0</td>\n",
       "    </tr>\n",
       "    <tr>\n",
       "      <th>...</th>\n",
       "      <th>...</th>\n",
       "      <td>...</td>\n",
       "      <td>...</td>\n",
       "      <td>...</td>\n",
       "      <td>...</td>\n",
       "      <td>...</td>\n",
       "      <td>...</td>\n",
       "      <td>...</td>\n",
       "      <td>...</td>\n",
       "      <td>...</td>\n",
       "      <td>...</td>\n",
       "      <td>...</td>\n",
       "      <td>...</td>\n",
       "      <td>...</td>\n",
       "      <td>...</td>\n",
       "      <td>...</td>\n",
       "      <td>...</td>\n",
       "      <td>...</td>\n",
       "      <td>...</td>\n",
       "      <td>...</td>\n",
       "      <td>...</td>\n",
       "      <td>...</td>\n",
       "    </tr>\n",
       "    <tr>\n",
       "      <th>2020-07-31</th>\n",
       "      <th>206329</th>\n",
       "      <td>60213.99</td>\n",
       "      <td>23</td>\n",
       "      <td>2617.999565</td>\n",
       "      <td>0</td>\n",
       "      <td>0</td>\n",
       "      <td>0</td>\n",
       "      <td>0</td>\n",
       "      <td>0</td>\n",
       "      <td>0</td>\n",
       "      <td>1</td>\n",
       "      <td>...</td>\n",
       "      <td>0</td>\n",
       "      <td>0</td>\n",
       "      <td>0</td>\n",
       "      <td>0</td>\n",
       "      <td>0</td>\n",
       "      <td>0</td>\n",
       "      <td>0</td>\n",
       "      <td>0</td>\n",
       "      <td>0</td>\n",
       "      <td>1</td>\n",
       "    </tr>\n",
       "    <tr>\n",
       "      <th>2020-04-30</th>\n",
       "      <th>206330</th>\n",
       "      <td>104.50</td>\n",
       "      <td>21</td>\n",
       "      <td>4.976190</td>\n",
       "      <td>0</td>\n",
       "      <td>0</td>\n",
       "      <td>0</td>\n",
       "      <td>1</td>\n",
       "      <td>0</td>\n",
       "      <td>0</td>\n",
       "      <td>0</td>\n",
       "      <td>...</td>\n",
       "      <td>0</td>\n",
       "      <td>0</td>\n",
       "      <td>0</td>\n",
       "      <td>0</td>\n",
       "      <td>0</td>\n",
       "      <td>0</td>\n",
       "      <td>0</td>\n",
       "      <td>0</td>\n",
       "      <td>0</td>\n",
       "      <td>1</td>\n",
       "    </tr>\n",
       "    <tr>\n",
       "      <th>2020-05-31</th>\n",
       "      <th>206330</th>\n",
       "      <td>18335.62</td>\n",
       "      <td>20</td>\n",
       "      <td>916.781000</td>\n",
       "      <td>0</td>\n",
       "      <td>0</td>\n",
       "      <td>0</td>\n",
       "      <td>0</td>\n",
       "      <td>1</td>\n",
       "      <td>0</td>\n",
       "      <td>0</td>\n",
       "      <td>...</td>\n",
       "      <td>0</td>\n",
       "      <td>0</td>\n",
       "      <td>0</td>\n",
       "      <td>0</td>\n",
       "      <td>0</td>\n",
       "      <td>0</td>\n",
       "      <td>0</td>\n",
       "      <td>0</td>\n",
       "      <td>0</td>\n",
       "      <td>1</td>\n",
       "    </tr>\n",
       "    <tr>\n",
       "      <th>2020-06-30</th>\n",
       "      <th>206330</th>\n",
       "      <td>15098.04</td>\n",
       "      <td>22</td>\n",
       "      <td>686.274545</td>\n",
       "      <td>0</td>\n",
       "      <td>0</td>\n",
       "      <td>0</td>\n",
       "      <td>0</td>\n",
       "      <td>0</td>\n",
       "      <td>1</td>\n",
       "      <td>0</td>\n",
       "      <td>...</td>\n",
       "      <td>0</td>\n",
       "      <td>0</td>\n",
       "      <td>0</td>\n",
       "      <td>0</td>\n",
       "      <td>0</td>\n",
       "      <td>0</td>\n",
       "      <td>0</td>\n",
       "      <td>0</td>\n",
       "      <td>0</td>\n",
       "      <td>1</td>\n",
       "    </tr>\n",
       "    <tr>\n",
       "      <th>2020-07-31</th>\n",
       "      <th>206330</th>\n",
       "      <td>16389.47</td>\n",
       "      <td>23</td>\n",
       "      <td>712.585652</td>\n",
       "      <td>0</td>\n",
       "      <td>0</td>\n",
       "      <td>0</td>\n",
       "      <td>0</td>\n",
       "      <td>0</td>\n",
       "      <td>0</td>\n",
       "      <td>1</td>\n",
       "      <td>...</td>\n",
       "      <td>0</td>\n",
       "      <td>0</td>\n",
       "      <td>0</td>\n",
       "      <td>0</td>\n",
       "      <td>0</td>\n",
       "      <td>0</td>\n",
       "      <td>0</td>\n",
       "      <td>0</td>\n",
       "      <td>0</td>\n",
       "      <td>1</td>\n",
       "    </tr>\n",
       "  </tbody>\n",
       "</table>\n",
       "<p>3066772 rows × 156 columns</p>\n",
       "</div>"
      ],
      "text/plain": [
       "                       TPV_mensal  work_days  TPV_mensal/work_day  1  2  3  4  \\\n",
       "mes_referencia id                                                               \n",
       "2018-12-31     1         10107.90         20           505.395000  0  0  0  0   \n",
       "2019-01-31     1          6023.15         22           273.779545  1  0  0  0   \n",
       "2019-02-28     1          4347.30         20           217.365000  0  1  0  0   \n",
       "2019-03-31     1          9769.75         21           465.226190  0  0  1  0   \n",
       "2019-04-30     1          6701.70         22           304.622727  0  0  0  1   \n",
       "...                           ...        ...                  ... .. .. .. ..   \n",
       "2020-07-31     206329    60213.99         23          2617.999565  0  0  0  0   \n",
       "2020-04-30     206330      104.50         21             4.976190  0  0  0  1   \n",
       "2020-05-31     206330    18335.62         20           916.781000  0  0  0  0   \n",
       "2020-06-30     206330    15098.04         22           686.274545  0  0  0  0   \n",
       "2020-07-31     206330    16389.47         23           712.585652  0  0  0  0   \n",
       "\n",
       "                       5  6  7  ...  RJ  RN  RO  RR  RS  SC  SE  SP  TO  covid  \n",
       "mes_referencia id               ...                                             \n",
       "2018-12-31     1       0  0  0  ...   0   0   0   0   0   0   0   0   0      0  \n",
       "2019-01-31     1       0  0  0  ...   0   0   0   0   0   0   0   0   0      0  \n",
       "2019-02-28     1       0  0  0  ...   0   0   0   0   0   0   0   0   0      0  \n",
       "2019-03-31     1       0  0  0  ...   0   0   0   0   0   0   0   0   0      0  \n",
       "2019-04-30     1       0  0  0  ...   0   0   0   0   0   0   0   0   0      0  \n",
       "...                   .. .. ..  ...  ..  ..  ..  ..  ..  ..  ..  ..  ..    ...  \n",
       "2020-07-31     206329  0  0  1  ...   0   0   0   0   0   0   0   0   0      1  \n",
       "2020-04-30     206330  0  0  0  ...   0   0   0   0   0   0   0   0   0      1  \n",
       "2020-05-31     206330  1  0  0  ...   0   0   0   0   0   0   0   0   0      1  \n",
       "2020-06-30     206330  0  1  0  ...   0   0   0   0   0   0   0   0   0      1  \n",
       "2020-07-31     206330  0  0  1  ...   0   0   0   0   0   0   0   0   0      1  \n",
       "\n",
       "[3066772 rows x 156 columns]"
      ]
     },
     "execution_count": 4,
     "metadata": {},
     "output_type": "execute_result"
    }
   ],
   "source": [
    "df"
   ]
  },
  {
   "cell_type": "code",
   "execution_count": 5,
   "id": "interior-atlantic",
   "metadata": {},
   "outputs": [
    {
     "name": "stdout",
     "output_type": "stream",
     "text": [
      "<class 'pandas.core.frame.DataFrame'>\n",
      "MultiIndex: 3066772 entries, (Timestamp('2018-12-31 00:00:00'), 1) to (Timestamp('2020-07-31 00:00:00'), 206330)\n",
      "Columns: 156 entries, TPV_mensal to covid\n",
      "dtypes: float64(4), int64(152)\n",
      "memory usage: 3.6 GB\n"
     ]
    }
   ],
   "source": [
    "df.info()"
   ]
  },
  {
   "cell_type": "code",
   "execution_count": 6,
   "id": "promotional-bumper",
   "metadata": {},
   "outputs": [
    {
     "name": "stdout",
     "output_type": "stream",
     "text": [
      "columns:  ['TPV_mensal', 'work_days', 'TPV_mensal/work_day', '1', '2', '3', '4', '5', '6', '7', '8', '9', '10', '11', '12', '2017', '2018', '2019', '2020', 'TPVEstimate normalized', 'TPVEstimate sqrt', 'Academias e Clubes', 'Acessórios, Bolsas e Bijuterias', 'Alimentação Rápida', 'Anúncios', 'Armarinhos e Tecido', 'Artigos Esportivos', 'Artigos Religiosos e Antiguidades', 'Artigos de Decoração', 'Associação', 'Autopeças e Acessórios', 'Autopeças e Serviços Automotivos - Outros', 'Bares e Restaurantes', 'Calçados', 'Cama, Mesa e Banho', 'Casa e Decoração - Outros', 'Cias Aéreas', 'Clinicas de Estética e Massagem', 'Comércio de Alimentos', 'Comércio de Bebidas', 'Comércio de Veículos', 'Conserto de Produtos e Reparos de Peças', 'Consultorias', 'Cosméticos e Perfumaria', 'Dedetização e Desinfecção', 'Delivery e Entrega', 'Drogarias e Farmácias', 'Eletrodomésticos', 'Eletrônicos', 'Ensino Básico', 'Ensino Superior e Técnico', 'Entretenimento e Turismo', 'Equipamentos de Uso Comercial e Industrial', 'Esporte e Fitness - Outros', 'Estacionamentos e Lava-rápidos', 'Estúdios e Gravadoras', 'Extracurriculares, Autoescola e Outros', 'Festas e Eventos', 'Floricultura', 'Gráfica, Impressão e Xerox', 'Gás GLP, Lubrificantes e Outros', 'Hospitais e Laboratórios', 'Hotéis / Resorts / Pousadas / Motéis', 'Instrumentos Musicais, CDs, DVDs e Outros', 'Jardinagem', 'Joalherias, Relojoarias e Pratarias', 'Jogos e Brinquedos Físicos', 'Jornais e Revistas - Conteúdo Físico', 'Jurídico', 'Livrarias e Papelarias', 'Locação de Veículos', 'Logística e Mobilidade - Outros', 'Loja de Presentes', 'Lojas de Departamento', 'Marketing', 'Materiais de Construção', 'Médicina', 'Móveis', 'Odontologia', 'Oficinas Automotivas', 'Outras Clínicas', 'Outro', 'Outros Comércios - Outros', 'Outros Produtos de Saúde e Beleza', 'Outros Serviços - Outros', 'Outros Serviços de Saúde', 'Paisagismo e Jardinagem', 'Petshops', 'Postos de Gasolina', 'Reformas e Obras em Geral', 'Salão de Beleza', 'Segurança', 'Serviços Corporativos - Outros', 'Serviços Financeiros', 'Serviços Imobiliários', 'Softwares e Eletrônica Integrada', 'Supermercados', 'Tabacaria', 'Telecomunicações', 'Táxi/Carona', 'Vestuário', 'Veterinários', 'Óticas e Óculos', 'Digital - Micro', 'Micro Empreendedor', 'Outro.1', 'Pequeno Empreendedor', 'SMB - Grande Porte e Ticket Alto', 'SMB - Grande Porte e Ticket Baixo', 'SMB - Grande Porte e Ticket Medio', 'SMB - Medio Porte e Ticket Alto', 'SMB - Medio Porte e Ticket Baixo', 'SMB - Medio Porte e Ticket Medio', 'SMB - Pequeno Porte e Ticket Alto', 'SMB - Pequeno Porte e Ticket Baixo', 'SMB - Pequeno Porte e Ticket Medio', '0-2.5k', '100k-500k', '10k-25k', '2.5k-5k', '25k-50k', '500k+', '50k-100k', '5k-10k', 'MEI', 'PF', 'PJ', 'AC', 'AL', 'AM', 'AP', 'BA', 'CE', 'DF', 'ES', 'GO', 'MA', 'MG', 'MS', 'MT', 'NAN', 'PA', 'PB', 'PE', 'PI', 'PR', 'RJ', 'RN', 'RO', 'RR', 'RS', 'SC', 'SE', 'SP', 'TO', 'covid']\n"
     ]
    }
   ],
   "source": [
    "print('columns: ', list(df.columns))"
   ]
  },
  {
   "cell_type": "code",
   "execution_count": 94,
   "id": "proof-raleigh",
   "metadata": {},
   "outputs": [],
   "source": [
    "y = df[['TPV_mensal', 'TPV_mensal/work_day']]\n",
    "X = df.drop(['TPV_mensal', 'TPV_mensal/work_day'], axis='columns')"
   ]
  },
  {
   "cell_type": "code",
   "execution_count": 95,
   "id": "hairy-clearing",
   "metadata": {},
   "outputs": [],
   "source": [
    "drop_columns = ['1', '2017', 'Outro', 'Outro.1', '0-2.5k', 'MEI', 'NAN']\n",
    "X = X.drop(drop_columns, axis='columns')"
   ]
  },
  {
   "cell_type": "code",
   "execution_count": 96,
   "id": "solved-vision",
   "metadata": {},
   "outputs": [],
   "source": [
    "X['TPVEstimate sqrt'] = X['TPVEstimate sqrt'].fillna(0.)"
   ]
  },
  {
   "cell_type": "markdown",
   "id": "vulnerable-prairie",
   "metadata": {},
   "source": [
    "---"
   ]
  },
  {
   "cell_type": "code",
   "execution_count": 97,
   "id": "fabulous-gibraltar",
   "metadata": {},
   "outputs": [],
   "source": [
    "X_test = X.loc[(df.index.get_level_values('mes_referencia') > '2020-06')]\n",
    "X_train = X.loc[(df.index.get_level_values('mes_referencia') < '2020-06')]"
   ]
  },
  {
   "cell_type": "code",
   "execution_count": 98,
   "id": "vocal-writing",
   "metadata": {},
   "outputs": [],
   "source": [
    "y_test = y.loc[(df.index.get_level_values('mes_referencia') > '2020-06')]\n",
    "y_train = y.loc[(df.index.get_level_values('mes_referencia') < '2020-06')]"
   ]
  },
  {
   "cell_type": "markdown",
   "id": "chief-recovery",
   "metadata": {},
   "source": [
    "---"
   ]
  },
  {
   "cell_type": "code",
   "execution_count": 12,
   "id": "sustainable-technique",
   "metadata": {},
   "outputs": [],
   "source": [
    "def model_predict(model, predictor='TPV_mensal', X_train=X_train, X_test=X_test, \n",
    "                      y_train=y_train, y_test=y_test):\n",
    "    \n",
    "    model.fit(X_train, y_train[[predictor]])\n",
    "    \n",
    "    y_pred = model.predict(X_test)\n",
    "    y_pred = pd.DataFrame(data=y_pred, index=y_test.index, columns=[predictor])\n",
    "    y_pred = pd.pivot_table(y_pred.reset_index(), index=['id'], columns=['mes_referencia'], \n",
    "                            values=[predictor])\n",
    "    y_pred[y_pred <= 0] = 0\n",
    "    \n",
    "    y_true = pd.pivot_table(y_test[[predictor]].reset_index(), \n",
    "                            index=['id'], columns=['mes_referencia'], \n",
    "                            values=[predictor])\n",
    "    \n",
    "    return y_true, y_pred"
   ]
  },
  {
   "cell_type": "markdown",
   "id": "challenging-reply",
   "metadata": {},
   "source": [
    "---"
   ]
  },
  {
   "cell_type": "code",
   "execution_count": 13,
   "id": "ranging-carol",
   "metadata": {},
   "outputs": [],
   "source": [
    "from sklearn.linear_model import LinearRegression"
   ]
  },
  {
   "cell_type": "code",
   "execution_count": 14,
   "id": "double-sewing",
   "metadata": {},
   "outputs": [
    {
     "name": "stdout",
     "output_type": "stream",
     "text": [
      "erro absoluto relativo:  217701.6536780853\n"
     ]
    }
   ],
   "source": [
    "y_true, y_pred = model_predict(LinearRegression(normalize=True))\n",
    "print('erro absoluto relativo: ', erro(y_true, y_pred))"
   ]
  },
  {
   "cell_type": "code",
   "execution_count": 15,
   "id": "sustained-spanking",
   "metadata": {},
   "outputs": [
    {
     "name": "stdout",
     "output_type": "stream",
     "text": [
      "erro absoluto relativo:  219902.00276564888\n"
     ]
    }
   ],
   "source": [
    "y_true, y_pred = model_predict(LinearRegression(normalize=True), predictor='TPV_mensal/work_day')\n",
    "print('erro absoluto relativo: ', erro(y_true, y_pred))"
   ]
  },
  {
   "cell_type": "code",
   "execution_count": 16,
   "id": "physical-angola",
   "metadata": {},
   "outputs": [
    {
     "name": "stdout",
     "output_type": "stream",
     "text": [
      "erro absoluto relativo:  240830.11071480592\n"
     ]
    }
   ],
   "source": [
    "y_true, y_pred = model_predict(LinearRegression(normalize=True, positive=True))\n",
    "print('erro absoluto relativo: ', erro(y_true, y_pred))"
   ]
  },
  {
   "cell_type": "markdown",
   "id": "qualified-agreement",
   "metadata": {},
   "source": [
    "---"
   ]
  },
  {
   "cell_type": "code",
   "execution_count": 17,
   "id": "british-lesbian",
   "metadata": {},
   "outputs": [],
   "source": [
    "from sklearn.linear_model import Ridge"
   ]
  },
  {
   "cell_type": "code",
   "execution_count": 18,
   "id": "arabic-serbia",
   "metadata": {},
   "outputs": [
    {
     "name": "stdout",
     "output_type": "stream",
     "text": [
      "erro absoluto relativo:  271896.87979362736\n"
     ]
    }
   ],
   "source": [
    "y_true, y_pred = model_predict(Ridge(alpha=1.0, normalize=True, random_state=42))\n",
    "print('erro absoluto relativo: ', erro(y_true, y_pred))"
   ]
  },
  {
   "cell_type": "code",
   "execution_count": 19,
   "id": "still-package",
   "metadata": {},
   "outputs": [
    {
     "name": "stdout",
     "output_type": "stream",
     "text": [
      "erro absoluto relativo:  337577.6216378274\n"
     ]
    }
   ],
   "source": [
    "y_true, y_pred = model_predict(Ridge(alpha=2.5, normalize=True, random_state=42))\n",
    "print('erro absoluto relativo: ', erro(y_true, y_pred))"
   ]
  },
  {
   "cell_type": "code",
   "execution_count": 20,
   "id": "based-exchange",
   "metadata": {},
   "outputs": [
    {
     "name": "stdout",
     "output_type": "stream",
     "text": [
      "erro absoluto relativo:  401211.69957931695\n"
     ]
    }
   ],
   "source": [
    "y_true, y_pred = model_predict(Ridge(alpha=5., normalize=True, random_state=42))\n",
    "print('erro absoluto relativo: ', erro(y_true, y_pred))"
   ]
  },
  {
   "cell_type": "code",
   "execution_count": 21,
   "id": "willing-paraguay",
   "metadata": {},
   "outputs": [
    {
     "name": "stdout",
     "output_type": "stream",
     "text": [
      "erro absoluto relativo:  458834.6529859386\n"
     ]
    }
   ],
   "source": [
    "y_true, y_pred = model_predict(Ridge(alpha=10., normalize=True, random_state=42))\n",
    "print('erro absoluto relativo: ', erro(y_true, y_pred))"
   ]
  },
  {
   "cell_type": "markdown",
   "id": "modular-dairy",
   "metadata": {},
   "source": [
    "---"
   ]
  },
  {
   "cell_type": "code",
   "execution_count": 24,
   "id": "spiritual-tension",
   "metadata": {},
   "outputs": [],
   "source": [
    "from sklearn.linear_model import SGDRegressor"
   ]
  },
  {
   "cell_type": "code",
   "execution_count": 28,
   "id": "previous-transfer",
   "metadata": {},
   "outputs": [
    {
     "name": "stderr",
     "output_type": "stream",
     "text": [
      "D:\\Programas\\Anaconda3\\lib\\site-packages\\sklearn\\utils\\validation.py:63: DataConversionWarning: A column-vector y was passed when a 1d array was expected. Please change the shape of y to (n_samples, ), for example using ravel().\n",
      "  return f(*args, **kwargs)\n"
     ]
    },
    {
     "name": "stdout",
     "output_type": "stream",
     "text": [
      "erro absoluto relativo:  184662612.7472871\n"
     ]
    }
   ],
   "source": [
    "pipeline_model = make_pipeline(StandardScaler(), \n",
    "                               SGDRegressor(max_iter=500, tol=1e-3, random_state=42))\n",
    "y_true, y_pred = model_predict(pipeline_model)\n",
    "print('erro absoluto relativo: ', erro(y_true, y_pred))"
   ]
  },
  {
   "cell_type": "markdown",
   "id": "pleasant-partnership",
   "metadata": {},
   "source": [
    "---"
   ]
  },
  {
   "cell_type": "code",
   "execution_count": 29,
   "id": "recognized-bubble",
   "metadata": {},
   "outputs": [],
   "source": [
    "from sklearn.linear_model import ElasticNet"
   ]
  },
  {
   "cell_type": "code",
   "execution_count": 30,
   "id": "three-samuel",
   "metadata": {},
   "outputs": [
    {
     "name": "stdout",
     "output_type": "stream",
     "text": [
      "erro absoluto relativo:  345559.9181563495\n"
     ]
    }
   ],
   "source": [
    "y_true, y_pred = model_predict(ElasticNet(random_state=42))\n",
    "print('erro absoluto relativo: ', erro(y_true, y_pred))"
   ]
  },
  {
   "cell_type": "code",
   "execution_count": 31,
   "id": "marine-exemption",
   "metadata": {},
   "outputs": [
    {
     "name": "stdout",
     "output_type": "stream",
     "text": [
      "erro absoluto relativo:  327320.948880468\n"
     ]
    }
   ],
   "source": [
    "y_true, y_pred = model_predict(ElasticNet(alpha=0.75, random_state=42))\n",
    "print('erro absoluto relativo: ', erro(y_true, y_pred))"
   ]
  },
  {
   "cell_type": "code",
   "execution_count": 32,
   "id": "blind-analysis",
   "metadata": {},
   "outputs": [
    {
     "name": "stdout",
     "output_type": "stream",
     "text": [
      "erro absoluto relativo:  396760.71968183934\n"
     ]
    }
   ],
   "source": [
    "y_true, y_pred = model_predict(ElasticNet(alpha=2., random_state=42))\n",
    "print('erro absoluto relativo: ', erro(y_true, y_pred))"
   ]
  },
  {
   "cell_type": "code",
   "execution_count": 33,
   "id": "scenic-fifteen",
   "metadata": {},
   "outputs": [
    {
     "name": "stdout",
     "output_type": "stream",
     "text": [
      "erro absoluto relativo:  557469.475085908\n"
     ]
    }
   ],
   "source": [
    "y_true, y_pred = model_predict(ElasticNet(alpha=1., random_state=42, \n",
    "                                          normalize=True))\n",
    "print('erro absoluto relativo: ', erro(y_true, y_pred))"
   ]
  },
  {
   "cell_type": "code",
   "execution_count": 34,
   "id": "passing-programming",
   "metadata": {},
   "outputs": [
    {
     "name": "stdout",
     "output_type": "stream",
     "text": [
      "erro absoluto relativo:  557469.7902666472\n"
     ]
    }
   ],
   "source": [
    "y_true, y_pred = model_predict(ElasticNet(alpha=1., random_state=42, \n",
    "                                          normalize=True, positive=True))\n",
    "print('erro absoluto relativo: ', erro(y_true, y_pred))"
   ]
  },
  {
   "cell_type": "code",
   "execution_count": 36,
   "id": "manual-suggestion",
   "metadata": {},
   "outputs": [
    {
     "name": "stdout",
     "output_type": "stream",
     "text": [
      "erro absoluto relativo:  600110.3999913863\n"
     ]
    }
   ],
   "source": [
    "y_true, y_pred = model_predict(ElasticNet(alpha=1., random_state=42, \n",
    "                                          normalize=True, positive=True), predictor='TPV_mensal/work_day')\n",
    "print('erro absoluto relativo: ', erro(y_true, y_pred))"
   ]
  },
  {
   "cell_type": "markdown",
   "id": "smoking-blackjack",
   "metadata": {},
   "source": [
    "---"
   ]
  },
  {
   "cell_type": "code",
   "execution_count": 38,
   "id": "racial-disposal",
   "metadata": {},
   "outputs": [],
   "source": [
    "from sklearn.linear_model import BayesianRidge"
   ]
  },
  {
   "cell_type": "code",
   "execution_count": 39,
   "id": "soviet-annotation",
   "metadata": {},
   "outputs": [
    {
     "name": "stderr",
     "output_type": "stream",
     "text": [
      "D:\\Programas\\Anaconda3\\lib\\site-packages\\sklearn\\utils\\validation.py:63: DataConversionWarning: A column-vector y was passed when a 1d array was expected. Please change the shape of y to (n_samples, ), for example using ravel().\n",
      "  return f(*args, **kwargs)\n"
     ]
    },
    {
     "name": "stdout",
     "output_type": "stream",
     "text": [
      "erro absoluto relativo:  217727.14711544669\n"
     ]
    }
   ],
   "source": [
    "y_true, y_pred = model_predict(BayesianRidge())\n",
    "print('erro absoluto relativo: ', erro(y_true, y_pred))"
   ]
  },
  {
   "cell_type": "code",
   "execution_count": 40,
   "id": "radical-binary",
   "metadata": {},
   "outputs": [
    {
     "name": "stderr",
     "output_type": "stream",
     "text": [
      "D:\\Programas\\Anaconda3\\lib\\site-packages\\sklearn\\utils\\validation.py:63: DataConversionWarning: A column-vector y was passed when a 1d array was expected. Please change the shape of y to (n_samples, ), for example using ravel().\n",
      "  return f(*args, **kwargs)\n"
     ]
    },
    {
     "name": "stdout",
     "output_type": "stream",
     "text": [
      "erro absoluto relativo:  217792.8518536692\n"
     ]
    }
   ],
   "source": [
    "y_true, y_pred = model_predict(BayesianRidge(normalize=True))\n",
    "print('erro absoluto relativo: ', erro(y_true, y_pred))"
   ]
  },
  {
   "cell_type": "markdown",
   "id": "unknown-supply",
   "metadata": {},
   "source": [
    "---"
   ]
  },
  {
   "cell_type": "code",
   "execution_count": 41,
   "id": "analyzed-beaver",
   "metadata": {},
   "outputs": [],
   "source": [
    "from sklearn.ensemble import RandomForestRegressor"
   ]
  },
  {
   "cell_type": "code",
   "execution_count": 42,
   "id": "intelligent-mortality",
   "metadata": {},
   "outputs": [
    {
     "name": "stderr",
     "output_type": "stream",
     "text": [
      "D:\\Programas\\Anaconda3\\lib\\site-packages\\ipykernel_launcher.py:4: DataConversionWarning: A column-vector y was passed when a 1d array was expected. Please change the shape of y to (n_samples,), for example using ravel().\n",
      "  after removing the cwd from sys.path.\n"
     ]
    },
    {
     "name": "stdout",
     "output_type": "stream",
     "text": [
      "erro absoluto relativo:  447955.22509528097\n"
     ]
    }
   ],
   "source": [
    "y_true, y_pred = model_predict(RandomForestRegressor(max_depth=2, random_state=0))\n",
    "print('erro absoluto relativo: ', erro(y_true, y_pred))"
   ]
  },
  {
   "cell_type": "code",
   "execution_count": 43,
   "id": "joint-kingdom",
   "metadata": {},
   "outputs": [
    {
     "name": "stderr",
     "output_type": "stream",
     "text": [
      "D:\\Programas\\Anaconda3\\lib\\site-packages\\ipykernel_launcher.py:4: DataConversionWarning: A column-vector y was passed when a 1d array was expected. Please change the shape of y to (n_samples,), for example using ravel().\n",
      "  after removing the cwd from sys.path.\n"
     ]
    },
    {
     "name": "stdout",
     "output_type": "stream",
     "text": [
      "erro absoluto relativo:  277563.78438051196\n"
     ]
    }
   ],
   "source": [
    "y_true, y_pred = model_predict(RandomForestRegressor(max_depth=5, \n",
    "                                                     random_state=0, \n",
    "                                                    n_jobs=-1))\n",
    "print('erro absoluto relativo: ', erro(y_true, y_pred))"
   ]
  },
  {
   "cell_type": "markdown",
   "id": "related-frost",
   "metadata": {},
   "source": [
    "---"
   ]
  },
  {
   "cell_type": "code",
   "execution_count": 44,
   "id": "private-instruction",
   "metadata": {},
   "outputs": [],
   "source": [
    "from sklearn.ensemble import AdaBoostRegressor"
   ]
  },
  {
   "cell_type": "code",
   "execution_count": 45,
   "id": "enormous-northern",
   "metadata": {},
   "outputs": [
    {
     "name": "stderr",
     "output_type": "stream",
     "text": [
      "D:\\Programas\\Anaconda3\\lib\\site-packages\\sklearn\\utils\\validation.py:63: DataConversionWarning: A column-vector y was passed when a 1d array was expected. Please change the shape of y to (n_samples, ), for example using ravel().\n",
      "  return f(*args, **kwargs)\n"
     ]
    },
    {
     "name": "stdout",
     "output_type": "stream",
     "text": [
      "erro absoluto relativo:  1005566.4558667799\n"
     ]
    }
   ],
   "source": [
    "AdaBoostRegr = AdaBoostRegressor(base_estimator=BayesianRidge(), \n",
    "                                 random_state=0, n_estimators=100)\n",
    "y_true, y_pred = model_predict(AdaBoostRegr)\n",
    "print('erro absoluto relativo: ', erro(y_true, y_pred))"
   ]
  },
  {
   "cell_type": "code",
   "execution_count": null,
   "id": "modified-romance",
   "metadata": {},
   "outputs": [
    {
     "name": "stderr",
     "output_type": "stream",
     "text": [
      "D:\\Programas\\Anaconda3\\lib\\site-packages\\sklearn\\utils\\validation.py:63: DataConversionWarning: A column-vector y was passed when a 1d array was expected. Please change the shape of y to (n_samples, ), for example using ravel().\n",
      "  return f(*args, **kwargs)\n"
     ]
    }
   ],
   "source": [
    "AdaBoostRegr = AdaBoostRegressor(base_estimator=BayesianRidge(), \n",
    "                                 random_state=0, n_estimators=100, \n",
    "                                 learning_rate=0.1)\n",
    "y_true, y_pred = model_predict(AdaBoostRegr)\n",
    "print('erro absoluto relativo: ', erro(y_true, y_pred))"
   ]
  },
  {
   "cell_type": "markdown",
   "id": "exact-colonial",
   "metadata": {},
   "source": [
    "---"
   ]
  },
  {
   "cell_type": "code",
   "execution_count": 60,
   "id": "technical-graphic",
   "metadata": {},
   "outputs": [],
   "source": [
    "from sklearn.ensemble import GradientBoostingRegressor"
   ]
  },
  {
   "cell_type": "code",
   "execution_count": 61,
   "id": "fundamental-washington",
   "metadata": {},
   "outputs": [
    {
     "name": "stderr",
     "output_type": "stream",
     "text": [
      "D:\\Programas\\Anaconda3\\lib\\site-packages\\sklearn\\utils\\validation.py:63: DataConversionWarning: A column-vector y was passed when a 1d array was expected. Please change the shape of y to (n_samples, ), for example using ravel().\n",
      "  return f(*args, **kwargs)\n"
     ]
    },
    {
     "name": "stdout",
     "output_type": "stream",
     "text": [
      "erro absoluto relativo:  224998.85400022045\n"
     ]
    }
   ],
   "source": [
    "y_true, y_pred = model_predict(GradientBoostingRegressor(random_state=42))\n",
    "print('erro absoluto relativo: ', erro(y_true, y_pred))"
   ]
  },
  {
   "cell_type": "markdown",
   "id": "democratic-status",
   "metadata": {},
   "source": [
    "---"
   ]
  },
  {
   "cell_type": "code",
   "execution_count": 100,
   "id": "1740d74e",
   "metadata": {},
   "outputs": [
    {
     "data": {
      "text/html": [
       "<div>\n",
       "<style scoped>\n",
       "    .dataframe tbody tr th:only-of-type {\n",
       "        vertical-align: middle;\n",
       "    }\n",
       "\n",
       "    .dataframe tbody tr th {\n",
       "        vertical-align: top;\n",
       "    }\n",
       "\n",
       "    .dataframe thead th {\n",
       "        text-align: right;\n",
       "    }\n",
       "</style>\n",
       "<table border=\"1\" class=\"dataframe\">\n",
       "  <thead>\n",
       "    <tr style=\"text-align: right;\">\n",
       "      <th></th>\n",
       "      <th></th>\n",
       "      <th>work_days</th>\n",
       "      <th>2</th>\n",
       "      <th>3</th>\n",
       "      <th>4</th>\n",
       "      <th>5</th>\n",
       "      <th>6</th>\n",
       "      <th>7</th>\n",
       "      <th>8</th>\n",
       "      <th>9</th>\n",
       "      <th>10</th>\n",
       "      <th>...</th>\n",
       "      <th>RJ</th>\n",
       "      <th>RN</th>\n",
       "      <th>RO</th>\n",
       "      <th>RR</th>\n",
       "      <th>RS</th>\n",
       "      <th>SC</th>\n",
       "      <th>SE</th>\n",
       "      <th>SP</th>\n",
       "      <th>TO</th>\n",
       "      <th>covid</th>\n",
       "    </tr>\n",
       "    <tr>\n",
       "      <th>mes_referencia</th>\n",
       "      <th>id</th>\n",
       "      <th></th>\n",
       "      <th></th>\n",
       "      <th></th>\n",
       "      <th></th>\n",
       "      <th></th>\n",
       "      <th></th>\n",
       "      <th></th>\n",
       "      <th></th>\n",
       "      <th></th>\n",
       "      <th></th>\n",
       "      <th></th>\n",
       "      <th></th>\n",
       "      <th></th>\n",
       "      <th></th>\n",
       "      <th></th>\n",
       "      <th></th>\n",
       "      <th></th>\n",
       "      <th></th>\n",
       "      <th></th>\n",
       "      <th></th>\n",
       "      <th></th>\n",
       "    </tr>\n",
       "  </thead>\n",
       "  <tbody>\n",
       "    <tr>\n",
       "      <th>2018-12-31</th>\n",
       "      <th>1</th>\n",
       "      <td>20</td>\n",
       "      <td>0</td>\n",
       "      <td>0</td>\n",
       "      <td>0</td>\n",
       "      <td>0</td>\n",
       "      <td>0</td>\n",
       "      <td>0</td>\n",
       "      <td>0</td>\n",
       "      <td>0</td>\n",
       "      <td>0</td>\n",
       "      <td>...</td>\n",
       "      <td>0</td>\n",
       "      <td>0</td>\n",
       "      <td>0</td>\n",
       "      <td>0</td>\n",
       "      <td>0</td>\n",
       "      <td>0</td>\n",
       "      <td>0</td>\n",
       "      <td>0</td>\n",
       "      <td>0</td>\n",
       "      <td>0</td>\n",
       "    </tr>\n",
       "    <tr>\n",
       "      <th>2019-01-31</th>\n",
       "      <th>1</th>\n",
       "      <td>22</td>\n",
       "      <td>0</td>\n",
       "      <td>0</td>\n",
       "      <td>0</td>\n",
       "      <td>0</td>\n",
       "      <td>0</td>\n",
       "      <td>0</td>\n",
       "      <td>0</td>\n",
       "      <td>0</td>\n",
       "      <td>0</td>\n",
       "      <td>...</td>\n",
       "      <td>0</td>\n",
       "      <td>0</td>\n",
       "      <td>0</td>\n",
       "      <td>0</td>\n",
       "      <td>0</td>\n",
       "      <td>0</td>\n",
       "      <td>0</td>\n",
       "      <td>0</td>\n",
       "      <td>0</td>\n",
       "      <td>0</td>\n",
       "    </tr>\n",
       "    <tr>\n",
       "      <th>2019-02-28</th>\n",
       "      <th>1</th>\n",
       "      <td>20</td>\n",
       "      <td>1</td>\n",
       "      <td>0</td>\n",
       "      <td>0</td>\n",
       "      <td>0</td>\n",
       "      <td>0</td>\n",
       "      <td>0</td>\n",
       "      <td>0</td>\n",
       "      <td>0</td>\n",
       "      <td>0</td>\n",
       "      <td>...</td>\n",
       "      <td>0</td>\n",
       "      <td>0</td>\n",
       "      <td>0</td>\n",
       "      <td>0</td>\n",
       "      <td>0</td>\n",
       "      <td>0</td>\n",
       "      <td>0</td>\n",
       "      <td>0</td>\n",
       "      <td>0</td>\n",
       "      <td>0</td>\n",
       "    </tr>\n",
       "    <tr>\n",
       "      <th>2019-03-31</th>\n",
       "      <th>1</th>\n",
       "      <td>21</td>\n",
       "      <td>0</td>\n",
       "      <td>1</td>\n",
       "      <td>0</td>\n",
       "      <td>0</td>\n",
       "      <td>0</td>\n",
       "      <td>0</td>\n",
       "      <td>0</td>\n",
       "      <td>0</td>\n",
       "      <td>0</td>\n",
       "      <td>...</td>\n",
       "      <td>0</td>\n",
       "      <td>0</td>\n",
       "      <td>0</td>\n",
       "      <td>0</td>\n",
       "      <td>0</td>\n",
       "      <td>0</td>\n",
       "      <td>0</td>\n",
       "      <td>0</td>\n",
       "      <td>0</td>\n",
       "      <td>0</td>\n",
       "    </tr>\n",
       "    <tr>\n",
       "      <th>2019-04-30</th>\n",
       "      <th>1</th>\n",
       "      <td>22</td>\n",
       "      <td>0</td>\n",
       "      <td>0</td>\n",
       "      <td>1</td>\n",
       "      <td>0</td>\n",
       "      <td>0</td>\n",
       "      <td>0</td>\n",
       "      <td>0</td>\n",
       "      <td>0</td>\n",
       "      <td>0</td>\n",
       "      <td>...</td>\n",
       "      <td>0</td>\n",
       "      <td>0</td>\n",
       "      <td>0</td>\n",
       "      <td>0</td>\n",
       "      <td>0</td>\n",
       "      <td>0</td>\n",
       "      <td>0</td>\n",
       "      <td>0</td>\n",
       "      <td>0</td>\n",
       "      <td>0</td>\n",
       "    </tr>\n",
       "    <tr>\n",
       "      <th>...</th>\n",
       "      <th>...</th>\n",
       "      <td>...</td>\n",
       "      <td>...</td>\n",
       "      <td>...</td>\n",
       "      <td>...</td>\n",
       "      <td>...</td>\n",
       "      <td>...</td>\n",
       "      <td>...</td>\n",
       "      <td>...</td>\n",
       "      <td>...</td>\n",
       "      <td>...</td>\n",
       "      <td>...</td>\n",
       "      <td>...</td>\n",
       "      <td>...</td>\n",
       "      <td>...</td>\n",
       "      <td>...</td>\n",
       "      <td>...</td>\n",
       "      <td>...</td>\n",
       "      <td>...</td>\n",
       "      <td>...</td>\n",
       "      <td>...</td>\n",
       "      <td>...</td>\n",
       "    </tr>\n",
       "    <tr>\n",
       "      <th>2020-07-31</th>\n",
       "      <th>206329</th>\n",
       "      <td>23</td>\n",
       "      <td>0</td>\n",
       "      <td>0</td>\n",
       "      <td>0</td>\n",
       "      <td>0</td>\n",
       "      <td>0</td>\n",
       "      <td>1</td>\n",
       "      <td>0</td>\n",
       "      <td>0</td>\n",
       "      <td>0</td>\n",
       "      <td>...</td>\n",
       "      <td>0</td>\n",
       "      <td>0</td>\n",
       "      <td>0</td>\n",
       "      <td>0</td>\n",
       "      <td>0</td>\n",
       "      <td>0</td>\n",
       "      <td>0</td>\n",
       "      <td>0</td>\n",
       "      <td>0</td>\n",
       "      <td>1</td>\n",
       "    </tr>\n",
       "    <tr>\n",
       "      <th>2020-04-30</th>\n",
       "      <th>206330</th>\n",
       "      <td>21</td>\n",
       "      <td>0</td>\n",
       "      <td>0</td>\n",
       "      <td>1</td>\n",
       "      <td>0</td>\n",
       "      <td>0</td>\n",
       "      <td>0</td>\n",
       "      <td>0</td>\n",
       "      <td>0</td>\n",
       "      <td>0</td>\n",
       "      <td>...</td>\n",
       "      <td>0</td>\n",
       "      <td>0</td>\n",
       "      <td>0</td>\n",
       "      <td>0</td>\n",
       "      <td>0</td>\n",
       "      <td>0</td>\n",
       "      <td>0</td>\n",
       "      <td>0</td>\n",
       "      <td>0</td>\n",
       "      <td>1</td>\n",
       "    </tr>\n",
       "    <tr>\n",
       "      <th>2020-05-31</th>\n",
       "      <th>206330</th>\n",
       "      <td>20</td>\n",
       "      <td>0</td>\n",
       "      <td>0</td>\n",
       "      <td>0</td>\n",
       "      <td>1</td>\n",
       "      <td>0</td>\n",
       "      <td>0</td>\n",
       "      <td>0</td>\n",
       "      <td>0</td>\n",
       "      <td>0</td>\n",
       "      <td>...</td>\n",
       "      <td>0</td>\n",
       "      <td>0</td>\n",
       "      <td>0</td>\n",
       "      <td>0</td>\n",
       "      <td>0</td>\n",
       "      <td>0</td>\n",
       "      <td>0</td>\n",
       "      <td>0</td>\n",
       "      <td>0</td>\n",
       "      <td>1</td>\n",
       "    </tr>\n",
       "    <tr>\n",
       "      <th>2020-06-30</th>\n",
       "      <th>206330</th>\n",
       "      <td>22</td>\n",
       "      <td>0</td>\n",
       "      <td>0</td>\n",
       "      <td>0</td>\n",
       "      <td>0</td>\n",
       "      <td>1</td>\n",
       "      <td>0</td>\n",
       "      <td>0</td>\n",
       "      <td>0</td>\n",
       "      <td>0</td>\n",
       "      <td>...</td>\n",
       "      <td>0</td>\n",
       "      <td>0</td>\n",
       "      <td>0</td>\n",
       "      <td>0</td>\n",
       "      <td>0</td>\n",
       "      <td>0</td>\n",
       "      <td>0</td>\n",
       "      <td>0</td>\n",
       "      <td>0</td>\n",
       "      <td>1</td>\n",
       "    </tr>\n",
       "    <tr>\n",
       "      <th>2020-07-31</th>\n",
       "      <th>206330</th>\n",
       "      <td>23</td>\n",
       "      <td>0</td>\n",
       "      <td>0</td>\n",
       "      <td>0</td>\n",
       "      <td>0</td>\n",
       "      <td>0</td>\n",
       "      <td>1</td>\n",
       "      <td>0</td>\n",
       "      <td>0</td>\n",
       "      <td>0</td>\n",
       "      <td>...</td>\n",
       "      <td>0</td>\n",
       "      <td>0</td>\n",
       "      <td>0</td>\n",
       "      <td>0</td>\n",
       "      <td>0</td>\n",
       "      <td>0</td>\n",
       "      <td>0</td>\n",
       "      <td>0</td>\n",
       "      <td>0</td>\n",
       "      <td>1</td>\n",
       "    </tr>\n",
       "  </tbody>\n",
       "</table>\n",
       "<p>3066772 rows × 147 columns</p>\n",
       "</div>"
      ],
      "text/plain": [
       "                       work_days  2  3  4  5  6  7  8  9  10  ...  RJ  RN  RO  \\\n",
       "mes_referencia id                                             ...               \n",
       "2018-12-31     1              20  0  0  0  0  0  0  0  0   0  ...   0   0   0   \n",
       "2019-01-31     1              22  0  0  0  0  0  0  0  0   0  ...   0   0   0   \n",
       "2019-02-28     1              20  1  0  0  0  0  0  0  0   0  ...   0   0   0   \n",
       "2019-03-31     1              21  0  1  0  0  0  0  0  0   0  ...   0   0   0   \n",
       "2019-04-30     1              22  0  0  1  0  0  0  0  0   0  ...   0   0   0   \n",
       "...                          ... .. .. .. .. .. .. .. ..  ..  ...  ..  ..  ..   \n",
       "2020-07-31     206329         23  0  0  0  0  0  1  0  0   0  ...   0   0   0   \n",
       "2020-04-30     206330         21  0  0  1  0  0  0  0  0   0  ...   0   0   0   \n",
       "2020-05-31     206330         20  0  0  0  1  0  0  0  0   0  ...   0   0   0   \n",
       "2020-06-30     206330         22  0  0  0  0  1  0  0  0   0  ...   0   0   0   \n",
       "2020-07-31     206330         23  0  0  0  0  0  1  0  0   0  ...   0   0   0   \n",
       "\n",
       "                       RR  RS  SC  SE  SP  TO  covid  \n",
       "mes_referencia id                                     \n",
       "2018-12-31     1        0   0   0   0   0   0      0  \n",
       "2019-01-31     1        0   0   0   0   0   0      0  \n",
       "2019-02-28     1        0   0   0   0   0   0      0  \n",
       "2019-03-31     1        0   0   0   0   0   0      0  \n",
       "2019-04-30     1        0   0   0   0   0   0      0  \n",
       "...                    ..  ..  ..  ..  ..  ..    ...  \n",
       "2020-07-31     206329   0   0   0   0   0   0      1  \n",
       "2020-04-30     206330   0   0   0   0   0   0      1  \n",
       "2020-05-31     206330   0   0   0   0   0   0      1  \n",
       "2020-06-30     206330   0   0   0   0   0   0      1  \n",
       "2020-07-31     206330   0   0   0   0   0   0      1  \n",
       "\n",
       "[3066772 rows x 147 columns]"
      ]
     },
     "execution_count": 100,
     "metadata": {},
     "output_type": "execute_result"
    }
   ],
   "source": [
    "X"
   ]
  },
  {
   "cell_type": "code",
   "execution_count": 116,
   "id": "85c380e0",
   "metadata": {},
   "outputs": [],
   "source": [
    "X8 = X.loc[(df.index.get_level_values('mes_referencia') == '2020-07-31')].reset_index()\n",
    "X8['7'] = 0\n",
    "X8['8'] = 1\n",
    "X8['work_days'] = 25\n",
    "X8['mes_referencia'] = datetime(2020,8,31).date()\n",
    "\n",
    "X9 = X.loc[(df.index.get_level_values('mes_referencia') == '2020-07-31')].reset_index()\n",
    "X9['7'] = 0\n",
    "X9['9'] = 1\n",
    "X9['work_days'] = 25\n",
    "X9['mes_referencia'] = datetime(2020,9,30).date()\n",
    "\n",
    "X10 = X.loc[(df.index.get_level_values('mes_referencia') == '2020-07-31')].reset_index()\n",
    "X10['7'] = 0\n",
    "X10['10'] = 1\n",
    "X10['work_days'] = 25\n",
    "X10['mes_referencia'] = datetime(2020,10,31).date()\n",
    "\n",
    "X11 = X.loc[(df.index.get_level_values('mes_referencia') == '2020-07-31')].reset_index()\n",
    "X11['7'] = 0\n",
    "X11['11'] = 1\n",
    "X11['work_days'] = 25\n",
    "X11['mes_referencia'] = datetime(2020,11,30).date()\n",
    "\n",
    "X12 = X.loc[(df.index.get_level_values('mes_referencia') == '2020-07-31')].reset_index()\n",
    "X12['7'] = 0\n",
    "X12['12'] = 1\n",
    "X12['work_days'] = 25\n",
    "X12['mes_referencia'] = datetime(2020,12,31).date()"
   ]
  },
  {
   "cell_type": "code",
   "execution_count": 117,
   "id": "e18456a4",
   "metadata": {},
   "outputs": [],
   "source": [
    "X_output = X8.append([X9, X10, X11, X12])"
   ]
  },
  {
   "cell_type": "code",
   "execution_count": 121,
   "id": "64523297",
   "metadata": {},
   "outputs": [],
   "source": [
    "X_output = X_output.set_index(['mes_referencia', 'id'])"
   ]
  },
  {
   "cell_type": "code",
   "execution_count": 122,
   "id": "46f0786d",
   "metadata": {},
   "outputs": [],
   "source": [
    "from sklearn.linear_model import LinearRegression"
   ]
  },
  {
   "cell_type": "code",
   "execution_count": 125,
   "id": "dec5f4ab",
   "metadata": {},
   "outputs": [
    {
     "data": {
      "text/html": [
       "<div>\n",
       "<style scoped>\n",
       "    .dataframe tbody tr th:only-of-type {\n",
       "        vertical-align: middle;\n",
       "    }\n",
       "\n",
       "    .dataframe tbody tr th {\n",
       "        vertical-align: top;\n",
       "    }\n",
       "\n",
       "    .dataframe thead tr th {\n",
       "        text-align: left;\n",
       "    }\n",
       "\n",
       "    .dataframe thead tr:last-of-type th {\n",
       "        text-align: right;\n",
       "    }\n",
       "</style>\n",
       "<table border=\"1\" class=\"dataframe\">\n",
       "  <thead>\n",
       "    <tr>\n",
       "      <th></th>\n",
       "      <th colspan=\"5\" halign=\"left\">TPV_mensal</th>\n",
       "    </tr>\n",
       "    <tr>\n",
       "      <th>mes_referencia</th>\n",
       "      <th>2020-08-31</th>\n",
       "      <th>2020-09-30</th>\n",
       "      <th>2020-10-31</th>\n",
       "      <th>2020-11-30</th>\n",
       "      <th>2020-12-31</th>\n",
       "    </tr>\n",
       "    <tr>\n",
       "      <th>id</th>\n",
       "      <th></th>\n",
       "      <th></th>\n",
       "      <th></th>\n",
       "      <th></th>\n",
       "      <th></th>\n",
       "    </tr>\n",
       "  </thead>\n",
       "  <tbody>\n",
       "    <tr>\n",
       "      <th>1</th>\n",
       "      <td>45695.013329</td>\n",
       "      <td>45765.835309</td>\n",
       "      <td>46166.252656</td>\n",
       "      <td>48029.170372</td>\n",
       "      <td>51946.893836</td>\n",
       "    </tr>\n",
       "    <tr>\n",
       "      <th>2</th>\n",
       "      <td>11058.360085</td>\n",
       "      <td>11129.182066</td>\n",
       "      <td>11529.599413</td>\n",
       "      <td>13392.517128</td>\n",
       "      <td>17310.240592</td>\n",
       "    </tr>\n",
       "    <tr>\n",
       "      <th>3</th>\n",
       "      <td>1746.791188</td>\n",
       "      <td>1817.613169</td>\n",
       "      <td>2218.030516</td>\n",
       "      <td>4080.948231</td>\n",
       "      <td>7998.671695</td>\n",
       "    </tr>\n",
       "    <tr>\n",
       "      <th>4</th>\n",
       "      <td>41012.589025</td>\n",
       "      <td>41083.411006</td>\n",
       "      <td>41483.828353</td>\n",
       "      <td>43346.746068</td>\n",
       "      <td>47264.469532</td>\n",
       "    </tr>\n",
       "    <tr>\n",
       "      <th>5</th>\n",
       "      <td>6825.755812</td>\n",
       "      <td>6896.577793</td>\n",
       "      <td>7296.995140</td>\n",
       "      <td>9159.912856</td>\n",
       "      <td>13077.636320</td>\n",
       "    </tr>\n",
       "    <tr>\n",
       "      <th>...</th>\n",
       "      <td>...</td>\n",
       "      <td>...</td>\n",
       "      <td>...</td>\n",
       "      <td>...</td>\n",
       "      <td>...</td>\n",
       "    </tr>\n",
       "    <tr>\n",
       "      <th>206326</th>\n",
       "      <td>10050.484072</td>\n",
       "      <td>10121.306052</td>\n",
       "      <td>10521.723400</td>\n",
       "      <td>12384.641115</td>\n",
       "      <td>16302.364579</td>\n",
       "    </tr>\n",
       "    <tr>\n",
       "      <th>206327</th>\n",
       "      <td>14249.447541</td>\n",
       "      <td>14320.269522</td>\n",
       "      <td>14720.686869</td>\n",
       "      <td>16583.604585</td>\n",
       "      <td>20501.328049</td>\n",
       "    </tr>\n",
       "    <tr>\n",
       "      <th>206328</th>\n",
       "      <td>5391.528757</td>\n",
       "      <td>5462.350738</td>\n",
       "      <td>5862.768085</td>\n",
       "      <td>7725.685800</td>\n",
       "      <td>11643.409264</td>\n",
       "    </tr>\n",
       "    <tr>\n",
       "      <th>206329</th>\n",
       "      <td>45242.338147</td>\n",
       "      <td>45313.160128</td>\n",
       "      <td>45713.577475</td>\n",
       "      <td>47576.495190</td>\n",
       "      <td>51494.218654</td>\n",
       "    </tr>\n",
       "    <tr>\n",
       "      <th>206330</th>\n",
       "      <td>2580.411434</td>\n",
       "      <td>2651.233415</td>\n",
       "      <td>3051.650762</td>\n",
       "      <td>4914.568478</td>\n",
       "      <td>8832.291942</td>\n",
       "    </tr>\n",
       "  </tbody>\n",
       "</table>\n",
       "<p>205770 rows × 5 columns</p>\n",
       "</div>"
      ],
      "text/plain": [
       "                  TPV_mensal                                            \\\n",
       "mes_referencia    2020-08-31    2020-09-30    2020-10-31    2020-11-30   \n",
       "id                                                                       \n",
       "1               45695.013329  45765.835309  46166.252656  48029.170372   \n",
       "2               11058.360085  11129.182066  11529.599413  13392.517128   \n",
       "3                1746.791188   1817.613169   2218.030516   4080.948231   \n",
       "4               41012.589025  41083.411006  41483.828353  43346.746068   \n",
       "5                6825.755812   6896.577793   7296.995140   9159.912856   \n",
       "...                      ...           ...           ...           ...   \n",
       "206326          10050.484072  10121.306052  10521.723400  12384.641115   \n",
       "206327          14249.447541  14320.269522  14720.686869  16583.604585   \n",
       "206328           5391.528757   5462.350738   5862.768085   7725.685800   \n",
       "206329          45242.338147  45313.160128  45713.577475  47576.495190   \n",
       "206330           2580.411434   2651.233415   3051.650762   4914.568478   \n",
       "\n",
       "                              \n",
       "mes_referencia    2020-12-31  \n",
       "id                            \n",
       "1               51946.893836  \n",
       "2               17310.240592  \n",
       "3                7998.671695  \n",
       "4               47264.469532  \n",
       "5               13077.636320  \n",
       "...                      ...  \n",
       "206326          16302.364579  \n",
       "206327          20501.328049  \n",
       "206328          11643.409264  \n",
       "206329          51494.218654  \n",
       "206330           8832.291942  \n",
       "\n",
       "[205770 rows x 5 columns]"
      ]
     },
     "execution_count": 125,
     "metadata": {},
     "output_type": "execute_result"
    }
   ],
   "source": [
    "model = LinearRegression(normalize=True)\n",
    "predictor = 'TPV_mensal'\n",
    "model.fit(X, y[[predictor]])\n",
    "\n",
    "y_pred = model.predict(X_output)\n",
    "y_pred = pd.DataFrame(data=y_pred, index=X_output.index, columns=[predictor])\n",
    "y_pred = pd.pivot_table(y_pred.reset_index(), index=['id'], columns=['mes_referencia'], \n",
    "                        values=[predictor])\n",
    "y_pred"
   ]
  },
  {
   "cell_type": "code",
   "execution_count": 143,
   "id": "ed2d3500",
   "metadata": {},
   "outputs": [
    {
     "data": {
      "text/plain": [
       "63"
      ]
     },
     "execution_count": 143,
     "metadata": {},
     "output_type": "execute_result"
    }
   ],
   "source": [
    "len(set(df.reset_index()['id'].unique()) - set(y_pred.index))"
   ]
  },
  {
   "cell_type": "code",
   "execution_count": 146,
   "id": "b881d4db",
   "metadata": {},
   "outputs": [],
   "source": [
    "miss_index = set(df.reset_index()['id'].unique()) - set(y_pred.index)\n",
    "miss = pd.DataFrame(index=miss_index, columns=y_pred.columns)"
   ]
  },
  {
   "cell_type": "code",
   "execution_count": 164,
   "id": "f50b6706",
   "metadata": {},
   "outputs": [
    {
     "data": {
      "text/html": [
       "<div>\n",
       "<style scoped>\n",
       "    .dataframe tbody tr th:only-of-type {\n",
       "        vertical-align: middle;\n",
       "    }\n",
       "\n",
       "    .dataframe tbody tr th {\n",
       "        vertical-align: top;\n",
       "    }\n",
       "\n",
       "    .dataframe thead tr th {\n",
       "        text-align: left;\n",
       "    }\n",
       "</style>\n",
       "<table border=\"1\" class=\"dataframe\">\n",
       "  <thead>\n",
       "    <tr>\n",
       "      <th></th>\n",
       "      <th colspan=\"5\" halign=\"left\">TPV_mensal</th>\n",
       "    </tr>\n",
       "    <tr>\n",
       "      <th>mes_referencia</th>\n",
       "      <th>2020-08-31</th>\n",
       "      <th>2020-09-30</th>\n",
       "      <th>2020-10-31</th>\n",
       "      <th>2020-11-30</th>\n",
       "      <th>2020-12-31</th>\n",
       "    </tr>\n",
       "  </thead>\n",
       "  <tbody>\n",
       "    <tr>\n",
       "      <th>112768</th>\n",
       "      <td>22229.381455</td>\n",
       "      <td>NaN</td>\n",
       "      <td>NaN</td>\n",
       "      <td>NaN</td>\n",
       "      <td>NaN</td>\n",
       "    </tr>\n",
       "    <tr>\n",
       "      <th>177920</th>\n",
       "      <td>22229.381455</td>\n",
       "      <td>NaN</td>\n",
       "      <td>NaN</td>\n",
       "      <td>NaN</td>\n",
       "      <td>NaN</td>\n",
       "    </tr>\n",
       "    <tr>\n",
       "      <th>107011</th>\n",
       "      <td>22229.381455</td>\n",
       "      <td>NaN</td>\n",
       "      <td>NaN</td>\n",
       "      <td>NaN</td>\n",
       "      <td>NaN</td>\n",
       "    </tr>\n",
       "    <tr>\n",
       "      <th>151942</th>\n",
       "      <td>22229.381455</td>\n",
       "      <td>NaN</td>\n",
       "      <td>NaN</td>\n",
       "      <td>NaN</td>\n",
       "      <td>NaN</td>\n",
       "    </tr>\n",
       "    <tr>\n",
       "      <th>158471</th>\n",
       "      <td>22229.381455</td>\n",
       "      <td>NaN</td>\n",
       "      <td>NaN</td>\n",
       "      <td>NaN</td>\n",
       "      <td>NaN</td>\n",
       "    </tr>\n",
       "    <tr>\n",
       "      <th>...</th>\n",
       "      <td>...</td>\n",
       "      <td>...</td>\n",
       "      <td>...</td>\n",
       "      <td>...</td>\n",
       "      <td>...</td>\n",
       "    </tr>\n",
       "    <tr>\n",
       "      <th>79993</th>\n",
       "      <td>22229.381455</td>\n",
       "      <td>NaN</td>\n",
       "      <td>NaN</td>\n",
       "      <td>NaN</td>\n",
       "      <td>NaN</td>\n",
       "    </tr>\n",
       "    <tr>\n",
       "      <th>72826</th>\n",
       "      <td>22229.381455</td>\n",
       "      <td>NaN</td>\n",
       "      <td>NaN</td>\n",
       "      <td>NaN</td>\n",
       "      <td>NaN</td>\n",
       "    </tr>\n",
       "    <tr>\n",
       "      <th>193147</th>\n",
       "      <td>22229.381455</td>\n",
       "      <td>NaN</td>\n",
       "      <td>NaN</td>\n",
       "      <td>NaN</td>\n",
       "      <td>NaN</td>\n",
       "    </tr>\n",
       "    <tr>\n",
       "      <th>194428</th>\n",
       "      <td>22229.381455</td>\n",
       "      <td>NaN</td>\n",
       "      <td>NaN</td>\n",
       "      <td>NaN</td>\n",
       "      <td>NaN</td>\n",
       "    </tr>\n",
       "    <tr>\n",
       "      <th>164862</th>\n",
       "      <td>22229.381455</td>\n",
       "      <td>NaN</td>\n",
       "      <td>NaN</td>\n",
       "      <td>NaN</td>\n",
       "      <td>NaN</td>\n",
       "    </tr>\n",
       "  </tbody>\n",
       "</table>\n",
       "<p>63 rows × 5 columns</p>\n",
       "</div>"
      ],
      "text/plain": [
       "                  TPV_mensal                                            \n",
       "mes_referencia    2020-08-31 2020-09-30 2020-10-31 2020-11-30 2020-12-31\n",
       "112768          22229.381455        NaN        NaN        NaN        NaN\n",
       "177920          22229.381455        NaN        NaN        NaN        NaN\n",
       "107011          22229.381455        NaN        NaN        NaN        NaN\n",
       "151942          22229.381455        NaN        NaN        NaN        NaN\n",
       "158471          22229.381455        NaN        NaN        NaN        NaN\n",
       "...                      ...        ...        ...        ...        ...\n",
       "79993           22229.381455        NaN        NaN        NaN        NaN\n",
       "72826           22229.381455        NaN        NaN        NaN        NaN\n",
       "193147          22229.381455        NaN        NaN        NaN        NaN\n",
       "194428          22229.381455        NaN        NaN        NaN        NaN\n",
       "164862          22229.381455        NaN        NaN        NaN        NaN\n",
       "\n",
       "[63 rows x 5 columns]"
      ]
     },
     "execution_count": 164,
     "metadata": {},
     "output_type": "execute_result"
    }
   ],
   "source": [
    "miss"
   ]
  },
  {
   "cell_type": "code",
   "execution_count": 165,
   "id": "8bf4ef8e",
   "metadata": {},
   "outputs": [
    {
     "data": {
      "text/html": [
       "<div>\n",
       "<style scoped>\n",
       "    .dataframe tbody tr th:only-of-type {\n",
       "        vertical-align: middle;\n",
       "    }\n",
       "\n",
       "    .dataframe tbody tr th {\n",
       "        vertical-align: top;\n",
       "    }\n",
       "\n",
       "    .dataframe thead tr th {\n",
       "        text-align: left;\n",
       "    }\n",
       "</style>\n",
       "<table border=\"1\" class=\"dataframe\">\n",
       "  <thead>\n",
       "    <tr>\n",
       "      <th></th>\n",
       "      <th colspan=\"5\" halign=\"left\">TPV_mensal</th>\n",
       "    </tr>\n",
       "    <tr>\n",
       "      <th>mes_referencia</th>\n",
       "      <th>2020-08-31</th>\n",
       "      <th>2020-09-30</th>\n",
       "      <th>2020-10-31</th>\n",
       "      <th>2020-11-30</th>\n",
       "      <th>2020-12-31</th>\n",
       "    </tr>\n",
       "  </thead>\n",
       "  <tbody>\n",
       "    <tr>\n",
       "      <th>112768</th>\n",
       "      <td>22229.381455</td>\n",
       "      <td>22300.203436</td>\n",
       "      <td>22700.620783</td>\n",
       "      <td>24563.538498</td>\n",
       "      <td>28481.261962</td>\n",
       "    </tr>\n",
       "    <tr>\n",
       "      <th>177920</th>\n",
       "      <td>22229.381455</td>\n",
       "      <td>22300.203436</td>\n",
       "      <td>22700.620783</td>\n",
       "      <td>24563.538498</td>\n",
       "      <td>28481.261962</td>\n",
       "    </tr>\n",
       "    <tr>\n",
       "      <th>107011</th>\n",
       "      <td>22229.381455</td>\n",
       "      <td>22300.203436</td>\n",
       "      <td>22700.620783</td>\n",
       "      <td>24563.538498</td>\n",
       "      <td>28481.261962</td>\n",
       "    </tr>\n",
       "    <tr>\n",
       "      <th>151942</th>\n",
       "      <td>22229.381455</td>\n",
       "      <td>22300.203436</td>\n",
       "      <td>22700.620783</td>\n",
       "      <td>24563.538498</td>\n",
       "      <td>28481.261962</td>\n",
       "    </tr>\n",
       "    <tr>\n",
       "      <th>158471</th>\n",
       "      <td>22229.381455</td>\n",
       "      <td>22300.203436</td>\n",
       "      <td>22700.620783</td>\n",
       "      <td>24563.538498</td>\n",
       "      <td>28481.261962</td>\n",
       "    </tr>\n",
       "    <tr>\n",
       "      <th>...</th>\n",
       "      <td>...</td>\n",
       "      <td>...</td>\n",
       "      <td>...</td>\n",
       "      <td>...</td>\n",
       "      <td>...</td>\n",
       "    </tr>\n",
       "    <tr>\n",
       "      <th>79993</th>\n",
       "      <td>22229.381455</td>\n",
       "      <td>22300.203436</td>\n",
       "      <td>22700.620783</td>\n",
       "      <td>24563.538498</td>\n",
       "      <td>28481.261962</td>\n",
       "    </tr>\n",
       "    <tr>\n",
       "      <th>72826</th>\n",
       "      <td>22229.381455</td>\n",
       "      <td>22300.203436</td>\n",
       "      <td>22700.620783</td>\n",
       "      <td>24563.538498</td>\n",
       "      <td>28481.261962</td>\n",
       "    </tr>\n",
       "    <tr>\n",
       "      <th>193147</th>\n",
       "      <td>22229.381455</td>\n",
       "      <td>22300.203436</td>\n",
       "      <td>22700.620783</td>\n",
       "      <td>24563.538498</td>\n",
       "      <td>28481.261962</td>\n",
       "    </tr>\n",
       "    <tr>\n",
       "      <th>194428</th>\n",
       "      <td>22229.381455</td>\n",
       "      <td>22300.203436</td>\n",
       "      <td>22700.620783</td>\n",
       "      <td>24563.538498</td>\n",
       "      <td>28481.261962</td>\n",
       "    </tr>\n",
       "    <tr>\n",
       "      <th>164862</th>\n",
       "      <td>22229.381455</td>\n",
       "      <td>22300.203436</td>\n",
       "      <td>22700.620783</td>\n",
       "      <td>24563.538498</td>\n",
       "      <td>28481.261962</td>\n",
       "    </tr>\n",
       "  </tbody>\n",
       "</table>\n",
       "<p>63 rows × 5 columns</p>\n",
       "</div>"
      ],
      "text/plain": [
       "                  TPV_mensal                                            \\\n",
       "mes_referencia    2020-08-31    2020-09-30    2020-10-31    2020-11-30   \n",
       "112768          22229.381455  22300.203436  22700.620783  24563.538498   \n",
       "177920          22229.381455  22300.203436  22700.620783  24563.538498   \n",
       "107011          22229.381455  22300.203436  22700.620783  24563.538498   \n",
       "151942          22229.381455  22300.203436  22700.620783  24563.538498   \n",
       "158471          22229.381455  22300.203436  22700.620783  24563.538498   \n",
       "...                      ...           ...           ...           ...   \n",
       "79993           22229.381455  22300.203436  22700.620783  24563.538498   \n",
       "72826           22229.381455  22300.203436  22700.620783  24563.538498   \n",
       "193147          22229.381455  22300.203436  22700.620783  24563.538498   \n",
       "194428          22229.381455  22300.203436  22700.620783  24563.538498   \n",
       "164862          22229.381455  22300.203436  22700.620783  24563.538498   \n",
       "\n",
       "                              \n",
       "mes_referencia    2020-12-31  \n",
       "112768          28481.261962  \n",
       "177920          28481.261962  \n",
       "107011          28481.261962  \n",
       "151942          28481.261962  \n",
       "158471          28481.261962  \n",
       "...                      ...  \n",
       "79993           28481.261962  \n",
       "72826           28481.261962  \n",
       "193147          28481.261962  \n",
       "194428          28481.261962  \n",
       "164862          28481.261962  \n",
       "\n",
       "[63 rows x 5 columns]"
      ]
     },
     "execution_count": 165,
     "metadata": {},
     "output_type": "execute_result"
    }
   ],
   "source": [
    "miss[('TPV_mensal', '2020-08-31')].fillna(y_pred['TPV_mensal']['2020-08-31'].mean(), inplace=True)\n",
    "miss[('TPV_mensal', '2020-09-30')].fillna(y_pred['TPV_mensal']['2020-09-30'].mean(), inplace=True)\n",
    "miss[('TPV_mensal', '2020-10-31')].fillna(y_pred['TPV_mensal']['2020-10-31'].mean(), inplace=True)\n",
    "miss[('TPV_mensal', '2020-11-30')].fillna(y_pred['TPV_mensal']['2020-11-30'].mean(), inplace=True)\n",
    "miss[('TPV_mensal', '2020-12-31')].fillna(y_pred['TPV_mensal']['2020-12-31'].mean(), inplace=True)\n",
    "\n",
    "miss"
   ]
  },
  {
   "cell_type": "code",
   "execution_count": 193,
   "id": "c6bb290e",
   "metadata": {},
   "outputs": [
    {
     "data": {
      "text/html": [
       "<div>\n",
       "<style scoped>\n",
       "    .dataframe tbody tr th:only-of-type {\n",
       "        vertical-align: middle;\n",
       "    }\n",
       "\n",
       "    .dataframe tbody tr th {\n",
       "        vertical-align: top;\n",
       "    }\n",
       "\n",
       "    .dataframe thead th {\n",
       "        text-align: right;\n",
       "    }\n",
       "</style>\n",
       "<table border=\"1\" class=\"dataframe\">\n",
       "  <thead>\n",
       "    <tr style=\"text-align: right;\">\n",
       "      <th>id</th>\n",
       "      <th>TPV agosto</th>\n",
       "      <th>TPV setembro</th>\n",
       "      <th>TPV outubro</th>\n",
       "      <th>TPV nobembro</th>\n",
       "      <th>TPV dezembro</th>\n",
       "    </tr>\n",
       "  </thead>\n",
       "  <tbody>\n",
       "    <tr>\n",
       "      <th>1</th>\n",
       "      <td>45695.013329</td>\n",
       "      <td>45765.835309</td>\n",
       "      <td>46166.252656</td>\n",
       "      <td>48029.170372</td>\n",
       "      <td>51946.893836</td>\n",
       "    </tr>\n",
       "    <tr>\n",
       "      <th>2</th>\n",
       "      <td>11058.360085</td>\n",
       "      <td>11129.182066</td>\n",
       "      <td>11529.599413</td>\n",
       "      <td>13392.517128</td>\n",
       "      <td>17310.240592</td>\n",
       "    </tr>\n",
       "    <tr>\n",
       "      <th>3</th>\n",
       "      <td>1746.791188</td>\n",
       "      <td>1817.613169</td>\n",
       "      <td>2218.030516</td>\n",
       "      <td>4080.948231</td>\n",
       "      <td>7998.671695</td>\n",
       "    </tr>\n",
       "    <tr>\n",
       "      <th>4</th>\n",
       "      <td>41012.589025</td>\n",
       "      <td>41083.411006</td>\n",
       "      <td>41483.828353</td>\n",
       "      <td>43346.746068</td>\n",
       "      <td>47264.469532</td>\n",
       "    </tr>\n",
       "    <tr>\n",
       "      <th>5</th>\n",
       "      <td>6825.755812</td>\n",
       "      <td>6896.577793</td>\n",
       "      <td>7296.995140</td>\n",
       "      <td>9159.912856</td>\n",
       "      <td>13077.636320</td>\n",
       "    </tr>\n",
       "    <tr>\n",
       "      <th>...</th>\n",
       "      <td>...</td>\n",
       "      <td>...</td>\n",
       "      <td>...</td>\n",
       "      <td>...</td>\n",
       "      <td>...</td>\n",
       "    </tr>\n",
       "    <tr>\n",
       "      <th>206326</th>\n",
       "      <td>10050.484072</td>\n",
       "      <td>10121.306052</td>\n",
       "      <td>10521.723400</td>\n",
       "      <td>12384.641115</td>\n",
       "      <td>16302.364579</td>\n",
       "    </tr>\n",
       "    <tr>\n",
       "      <th>206327</th>\n",
       "      <td>14249.447541</td>\n",
       "      <td>14320.269522</td>\n",
       "      <td>14720.686869</td>\n",
       "      <td>16583.604585</td>\n",
       "      <td>20501.328049</td>\n",
       "    </tr>\n",
       "    <tr>\n",
       "      <th>206328</th>\n",
       "      <td>5391.528757</td>\n",
       "      <td>5462.350738</td>\n",
       "      <td>5862.768085</td>\n",
       "      <td>7725.685800</td>\n",
       "      <td>11643.409264</td>\n",
       "    </tr>\n",
       "    <tr>\n",
       "      <th>206329</th>\n",
       "      <td>45242.338147</td>\n",
       "      <td>45313.160128</td>\n",
       "      <td>45713.577475</td>\n",
       "      <td>47576.495190</td>\n",
       "      <td>51494.218654</td>\n",
       "    </tr>\n",
       "    <tr>\n",
       "      <th>206330</th>\n",
       "      <td>2580.411434</td>\n",
       "      <td>2651.233415</td>\n",
       "      <td>3051.650762</td>\n",
       "      <td>4914.568478</td>\n",
       "      <td>8832.291942</td>\n",
       "    </tr>\n",
       "  </tbody>\n",
       "</table>\n",
       "<p>205833 rows × 5 columns</p>\n",
       "</div>"
      ],
      "text/plain": [
       "id        TPV agosto  TPV setembro   TPV outubro  TPV nobembro  TPV dezembro\n",
       "1       45695.013329  45765.835309  46166.252656  48029.170372  51946.893836\n",
       "2       11058.360085  11129.182066  11529.599413  13392.517128  17310.240592\n",
       "3        1746.791188   1817.613169   2218.030516   4080.948231   7998.671695\n",
       "4       41012.589025  41083.411006  41483.828353  43346.746068  47264.469532\n",
       "5        6825.755812   6896.577793   7296.995140   9159.912856  13077.636320\n",
       "...              ...           ...           ...           ...           ...\n",
       "206326  10050.484072  10121.306052  10521.723400  12384.641115  16302.364579\n",
       "206327  14249.447541  14320.269522  14720.686869  16583.604585  20501.328049\n",
       "206328   5391.528757   5462.350738   5862.768085   7725.685800  11643.409264\n",
       "206329  45242.338147  45313.160128  45713.577475  47576.495190  51494.218654\n",
       "206330   2580.411434   2651.233415   3051.650762   4914.568478   8832.291942\n",
       "\n",
       "[205833 rows x 5 columns]"
      ]
     },
     "execution_count": 193,
     "metadata": {},
     "output_type": "execute_result"
    }
   ],
   "source": [
    "y_output = y_pred.append(miss).sort_index()\n",
    "y_output.columns.names = [None, 'id']\n",
    "y_output.columns = [x[1] for x in y_output.columns]\n",
    "y_output = y_output.rename({datetime(2020,8,31):'TPV agosto', \n",
    "                            datetime(2020,9,30):'TPV setembro', \n",
    "                            datetime(2020,10,31):'TPV outubro', \n",
    "                            datetime(2020,11,30):'TPV nobembro', \n",
    "                            datetime(2020,12,31):'TPV dezembro'}, axis='columns')\n",
    "y_output.columns.name = 'id'\n",
    "y_output"
   ]
  },
  {
   "cell_type": "code",
   "execution_count": 194,
   "id": "91263970",
   "metadata": {},
   "outputs": [],
   "source": [
    "y_output.to_csv('prediction.csv')"
   ]
  },
  {
   "cell_type": "markdown",
   "id": "0012cb4c",
   "metadata": {},
   "source": [
    "---"
   ]
  },
  {
   "cell_type": "markdown",
   "id": "44c73a27",
   "metadata": {},
   "source": [
    "Dentre novas variáveis que podem ser adicionadas ao modelo, recomenda-se o uso de variáveis que indiquem a mobilidade urbana, principalmente, durante o período de pandemia. Além, podemos introduzir ao modelo variáveis de casos de covid, o que também poderia indicar, inversamente, a atividade do comércio e serviços.\n",
    "\n",
    "Além, poderíamos adicionar variáveis que indicassem de modo mais granular as regiões dos estabelecimentos (capitais, centros comerciais, ruas tradicionais de comércio).\n",
    "\n",
    "Incluímos no modelo variáveis que indicassem a quantidade de dias úteis. Dessa forma, também poderíamos adicionar variáveis que indicassem forte atividade no comércio, como Natal, dia das Mães, dia das Crianças.\n",
    "\n",
    "Por fim, outras variáveis que poderiam ser incluídas, seriam macro-econômicas, que pudessem antecipar alguns movimentos no comércio e serviços, como produção, consumo de energia."
   ]
  },
  {
   "cell_type": "markdown",
   "id": "1f888530",
   "metadata": {},
   "source": [
    "---"
   ]
  }
 ],
 "metadata": {
  "kernelspec": {
   "display_name": "Python 3",
   "language": "python",
   "name": "python3"
  },
  "language_info": {
   "codemirror_mode": {
    "name": "ipython",
    "version": 3
   },
   "file_extension": ".py",
   "mimetype": "text/x-python",
   "name": "python",
   "nbconvert_exporter": "python",
   "pygments_lexer": "ipython3",
   "version": "3.7.10"
  }
 },
 "nbformat": 4,
 "nbformat_minor": 5
}
